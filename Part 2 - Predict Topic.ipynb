{
  "nbformat": 4,
  "nbformat_minor": 0,
  "metadata": {
    "colab": {
      "name": "Asfour - SP Part 2.ipynb",
      "provenance": [],
      "toc_visible": true,
      "machine_shape": "hm"
    },
    "kernelspec": {
      "name": "python3",
      "display_name": "Python 3"
    },
    "language_info": {
      "name": "python"
    }
  },
  "cells": [
    {
      "cell_type": "markdown",
      "metadata": {
        "id": "k0SzwfOdKwW2"
      },
      "source": [
        "# ***Part 2: predict the hashtag/topic/subreddit of a post based on its textual content***"
      ]
    },
    {
      "cell_type": "markdown",
      "metadata": {
        "id": "kwFKxkLerg5Y"
      },
      "source": [
        "# Importing data & visualization"
      ]
    },
    {
      "cell_type": "code",
      "metadata": {
        "colab": {
          "base_uri": "https://localhost:8080/"
        },
        "id": "zWzXWnaBK1mO",
        "outputId": "ded4cf84-757c-45e4-ce32-0776fbd8904a"
      },
      "source": [
        "from google.colab import drive\n",
        "drive.mount('/content/drive')"
      ],
      "execution_count": null,
      "outputs": [
        {
          "output_type": "stream",
          "name": "stdout",
          "text": [
            "Drive already mounted at /content/drive; to attempt to forcibly remount, call drive.mount(\"/content/drive\", force_remount=True).\n"
          ]
        }
      ]
    },
    {
      "cell_type": "code",
      "metadata": {
        "id": "4sTWY823l5bU"
      },
      "source": [
        "import numpy as np\n",
        "import pandas as pd\n",
        "\n",
        "RUNNING_KAGGLE_KERNEL = True "
      ],
      "execution_count": null,
      "outputs": []
    },
    {
      "cell_type": "code",
      "metadata": {
        "id": "3wWNY7Wnqgnk"
      },
      "source": [
        "rspct_path = \"/content/drive/MyDrive/Senior Project/rspct.tsv\"\n",
        "info_path = \"/content/drive/MyDrive/Senior Project/subreddit_info.csv\"\n",
        "rspct_df = pd.read_csv(rspct_path, sep='\\t')\n",
        "info_df = pd.read_csv(info_path)"
      ],
      "execution_count": null,
      "outputs": []
    },
    {
      "cell_type": "code",
      "metadata": {
        "colab": {
          "base_uri": "https://localhost:8080/",
          "height": 206
        },
        "id": "y7pcRMOSrbJb",
        "outputId": "cc5118b5-cb68-4b55-8405-31dca4559fb3"
      },
      "source": [
        "rspct_df.head(5)"
      ],
      "execution_count": null,
      "outputs": [
        {
          "output_type": "execute_result",
          "data": {
            "text/html": [
              "<div>\n",
              "<style scoped>\n",
              "    .dataframe tbody tr th:only-of-type {\n",
              "        vertical-align: middle;\n",
              "    }\n",
              "\n",
              "    .dataframe tbody tr th {\n",
              "        vertical-align: top;\n",
              "    }\n",
              "\n",
              "    .dataframe thead th {\n",
              "        text-align: right;\n",
              "    }\n",
              "</style>\n",
              "<table border=\"1\" class=\"dataframe\">\n",
              "  <thead>\n",
              "    <tr style=\"text-align: right;\">\n",
              "      <th></th>\n",
              "      <th>id</th>\n",
              "      <th>subreddit</th>\n",
              "      <th>title</th>\n",
              "      <th>selftext</th>\n",
              "    </tr>\n",
              "  </thead>\n",
              "  <tbody>\n",
              "    <tr>\n",
              "      <th>0</th>\n",
              "      <td>6d8knd</td>\n",
              "      <td>talesfromtechsupport</td>\n",
              "      <td>Remember your command line switches...</td>\n",
              "      <td>Hi there,  &lt;lb&gt;The usual. Long time lerker, fi...</td>\n",
              "    </tr>\n",
              "    <tr>\n",
              "      <th>1</th>\n",
              "      <td>58mbft</td>\n",
              "      <td>teenmom</td>\n",
              "      <td>So what was Matt \"addicted\" to?</td>\n",
              "      <td>Did he ever say what his addiction was or is h...</td>\n",
              "    </tr>\n",
              "    <tr>\n",
              "      <th>2</th>\n",
              "      <td>8f73s7</td>\n",
              "      <td>Harley</td>\n",
              "      <td>No Club Colors</td>\n",
              "      <td>Funny story. I went to college in Las Vegas. T...</td>\n",
              "    </tr>\n",
              "    <tr>\n",
              "      <th>3</th>\n",
              "      <td>6ti6re</td>\n",
              "      <td>ringdoorbell</td>\n",
              "      <td>Not door bell, but floodlight mount height.</td>\n",
              "      <td>I know this is a sub for the 'Ring Doorbell' b...</td>\n",
              "    </tr>\n",
              "    <tr>\n",
              "      <th>4</th>\n",
              "      <td>77sxto</td>\n",
              "      <td>intel</td>\n",
              "      <td>Worried about my 8700k small fft/data stress r...</td>\n",
              "      <td>Prime95 (regardless of version) and OCCT both,...</td>\n",
              "    </tr>\n",
              "  </tbody>\n",
              "</table>\n",
              "</div>"
            ],
            "text/plain": [
              "       id  ...                                           selftext\n",
              "0  6d8knd  ...  Hi there,  <lb>The usual. Long time lerker, fi...\n",
              "1  58mbft  ...  Did he ever say what his addiction was or is h...\n",
              "2  8f73s7  ...  Funny story. I went to college in Las Vegas. T...\n",
              "3  6ti6re  ...  I know this is a sub for the 'Ring Doorbell' b...\n",
              "4  77sxto  ...  Prime95 (regardless of version) and OCCT both,...\n",
              "\n",
              "[5 rows x 4 columns]"
            ]
          },
          "metadata": {},
          "execution_count": 14
        }
      ]
    },
    {
      "cell_type": "code",
      "metadata": {
        "colab": {
          "base_uri": "https://localhost:8080/",
          "height": 206
        },
        "id": "NcstUmBErc8a",
        "outputId": "524b2f83-c3d0-449f-9019-4c302ae4212e"
      },
      "source": [
        "\n",
        "info_df = info_df[info_df.in_data].reset_index()\n",
        "info_df.head(5)"
      ],
      "execution_count": null,
      "outputs": [
        {
          "output_type": "execute_result",
          "data": {
            "text/html": [
              "<div>\n",
              "<style scoped>\n",
              "    .dataframe tbody tr th:only-of-type {\n",
              "        vertical-align: middle;\n",
              "    }\n",
              "\n",
              "    .dataframe tbody tr th {\n",
              "        vertical-align: top;\n",
              "    }\n",
              "\n",
              "    .dataframe thead th {\n",
              "        text-align: right;\n",
              "    }\n",
              "</style>\n",
              "<table border=\"1\" class=\"dataframe\">\n",
              "  <thead>\n",
              "    <tr style=\"text-align: right;\">\n",
              "      <th></th>\n",
              "      <th>index</th>\n",
              "      <th>subreddit</th>\n",
              "      <th>category_1</th>\n",
              "      <th>category_2</th>\n",
              "      <th>category_3</th>\n",
              "      <th>in_data</th>\n",
              "      <th>reason_for_exclusion</th>\n",
              "    </tr>\n",
              "  </thead>\n",
              "  <tbody>\n",
              "    <tr>\n",
              "      <th>0</th>\n",
              "      <td>0</td>\n",
              "      <td>whatsthatbook</td>\n",
              "      <td>advice/question</td>\n",
              "      <td>book</td>\n",
              "      <td>NaN</td>\n",
              "      <td>True</td>\n",
              "      <td>NaN</td>\n",
              "    </tr>\n",
              "    <tr>\n",
              "      <th>1</th>\n",
              "      <td>25</td>\n",
              "      <td>theydidthemath</td>\n",
              "      <td>advice/question</td>\n",
              "      <td>calculations</td>\n",
              "      <td>NaN</td>\n",
              "      <td>True</td>\n",
              "      <td>NaN</td>\n",
              "    </tr>\n",
              "    <tr>\n",
              "      <th>2</th>\n",
              "      <td>26</td>\n",
              "      <td>datarecovery</td>\n",
              "      <td>advice/question</td>\n",
              "      <td>data recovery</td>\n",
              "      <td>NaN</td>\n",
              "      <td>True</td>\n",
              "      <td>NaN</td>\n",
              "    </tr>\n",
              "    <tr>\n",
              "      <th>3</th>\n",
              "      <td>27</td>\n",
              "      <td>declutter</td>\n",
              "      <td>advice/question</td>\n",
              "      <td>declutter</td>\n",
              "      <td>NaN</td>\n",
              "      <td>True</td>\n",
              "      <td>NaN</td>\n",
              "    </tr>\n",
              "    <tr>\n",
              "      <th>4</th>\n",
              "      <td>30</td>\n",
              "      <td>productivity</td>\n",
              "      <td>advice/question</td>\n",
              "      <td>discipline</td>\n",
              "      <td>NaN</td>\n",
              "      <td>True</td>\n",
              "      <td>NaN</td>\n",
              "    </tr>\n",
              "  </tbody>\n",
              "</table>\n",
              "</div>"
            ],
            "text/plain": [
              "   index       subreddit  ... in_data reason_for_exclusion\n",
              "0      0   whatsthatbook  ...    True                  NaN\n",
              "1     25  theydidthemath  ...    True                  NaN\n",
              "2     26    datarecovery  ...    True                  NaN\n",
              "3     27       declutter  ...    True                  NaN\n",
              "4     30    productivity  ...    True                  NaN\n",
              "\n",
              "[5 rows x 7 columns]"
            ]
          },
          "metadata": {},
          "execution_count": 15
        }
      ]
    },
    {
      "cell_type": "code",
      "metadata": {
        "id": "icKCZje1sc4y"
      },
      "source": [
        ""
      ],
      "execution_count": null,
      "outputs": []
    },
    {
      "cell_type": "code",
      "metadata": {
        "id": "mpk-IpOKsr82"
      },
      "source": [
        "\n",
        "def join_text(row):\n",
        "    if RUNNING_KAGGLE_KERNEL:\n",
        "        return row['title'][:100] + \" \" + row['selftext'][:512]\n",
        "    else:\n",
        "        return row['title'] + \" \" + row['selftext']\n",
        "\n",
        "rspct_df['text'] = rspct_df[['title', 'selftext']].apply(join_text, axis=1)"
      ],
      "execution_count": null,
      "outputs": []
    },
    {
      "cell_type": "code",
      "metadata": {
        "id": "J7S3TgWysvYa"
      },
      "source": [
        ""
      ],
      "execution_count": null,
      "outputs": []
    },
    {
      "cell_type": "markdown",
      "metadata": {
        "id": "SI67zXWItN0v"
      },
      "source": [
        "# Train-Test Split"
      ]
    },
    {
      "cell_type": "code",
      "metadata": {
        "id": "KsfUWSidtWFp"
      },
      "source": [
        "\n",
        "\n",
        "train_split_index = int(len(rspct_df) * 0.8)\n",
        "\n",
        "train_df, test_df = rspct_df[:train_split_index], rspct_df[train_split_index:]\n",
        "X_train , X_test  = train_df.text, test_df.text\n",
        "y_train, y_test   = train_df.subreddit, test_df.subreddit"
      ],
      "execution_count": null,
      "outputs": []
    },
    {
      "cell_type": "markdown",
      "metadata": {
        "id": "yO9kscBht1BQ"
      },
      "source": [
        "# Bag of Words"
      ]
    },
    {
      "cell_type": "code",
      "metadata": {
        "colab": {
          "base_uri": "https://localhost:8080/"
        },
        "id": "SMrTJ6a2tixo",
        "outputId": "97668c38-d8d4-4535-8ae4-e1df4ce08a14"
      },
      "source": [
        "from sklearn.preprocessing import LabelEncoder\n",
        "\n",
        "le = LabelEncoder()\n",
        "le.fit(y_train)\n",
        "y_train = le.transform(y_train)\n",
        "y_test  = le.transform(y_test)\n",
        "\n",
        "y_train[:5]"
      ],
      "execution_count": null,
      "outputs": [
        {
          "output_type": "execute_result",
          "data": {
            "text/plain": [
              "array([920, 931, 161, 827, 669])"
            ]
          },
          "metadata": {},
          "execution_count": 18
        }
      ]
    },
    {
      "cell_type": "code",
      "metadata": {
        "colab": {
          "base_uri": "https://localhost:8080/"
        },
        "id": "CSiekC_ttjdK",
        "outputId": "3c131828-1b8d-414d-84ad-a1a1521fb300"
      },
      "source": [
        "from sklearn.feature_extraction.text import TfidfVectorizer\n",
        "\n",
        "# extract features from text using bag-of-words (single words + bigrams)\n",
        "\n",
        "print('this cell will take about 10 minutes to run')\n",
        "\n",
        "NUM_FEATURES = 30000 if RUNNING_KAGGLE_KERNEL else 100000\n",
        "\n",
        "tf_idf_vectorizer = TfidfVectorizer(max_features = NUM_FEATURES,\n",
        "                                min_df=5,\n",
        "                                ngram_range=(1,2),\n",
        "                                stop_words=None,\n",
        "                                token_pattern='(?u)\\\\b\\\\w+\\\\b',\n",
        "                            )\n",
        "\n",
        "X_train = tf_idf_vectorizer.fit_transform(X_train)\n",
        "X_test  = tf_idf_vectorizer.transform(X_test)\n",
        "\n",
        "from sklearn.feature_selection import chi2, SelectKBest\n",
        "\n",
        "# if we have more memory, select top 100000 features and select good features\n",
        "if not RUNNING_KAGGLE_KERNEL:\n",
        "    chi2_selector = SelectKBest(chi2, 30000)\n",
        "\n",
        "    chi2_selector.fit(X_train, y_train) \n",
        "\n",
        "    X_train = chi2_selector.transform(X_train)\n",
        "    X_test  = chi2_selector.transform(X_test)\n",
        "\n",
        "X_train.shape, X_test.shape"
      ],
      "execution_count": null,
      "outputs": [
        {
          "output_type": "stream",
          "name": "stdout",
          "text": [
            "this cell will take about 10 minutes to run\n"
          ]
        },
        {
          "output_type": "execute_result",
          "data": {
            "text/plain": [
              "((810400, 30000), (202600, 30000))"
            ]
          },
          "metadata": {},
          "execution_count": 20
        }
      ]
    },
    {
      "cell_type": "markdown",
      "metadata": {
        "id": "N6ekqw1pskzU"
      },
      "source": [
        "# Naive Bayes Classifier"
      ]
    },
    {
      "cell_type": "code",
      "metadata": {
        "id": "lbe5C5eOtwSe"
      },
      "source": [
        "from sklearn.naive_bayes import MultinomialNB\n",
        "\n",
        "# train a naive bayes model, get predictions\n",
        "\n",
        "nb_model = MultinomialNB(alpha=0.1)\n",
        "nb_model.fit(X_train, y_train)\n",
        "\n",
        "y_pred_proba = nb_model.predict_proba(X_test)\n",
        "y_pred = np.argmax(y_pred_proba, axis=1)"
      ],
      "execution_count": null,
      "outputs": []
    },
    {
      "cell_type": "code",
      "metadata": {
        "id": "SdjCmeD7Bxof",
        "colab": {
          "base_uri": "https://localhost:8080/"
        },
        "outputId": "2d9d6603-a0e6-470f-cf85-cf01138af206"
      },
      "source": [
        "# we use precision-at-k metrics to evaluate performance\n",
        "\n",
        "def precision_at_k(y_true, y_pred, k=5):\n",
        "    y_true = np.array(y_true)\n",
        "    y_pred = np.array(y_pred)\n",
        "    y_pred = np.argsort(y_pred, axis=1)\n",
        "    y_pred = y_pred[:, ::-1][:, :k]\n",
        "    arr = [y in s for y, s in zip(y_true, y_pred)]\n",
        "    return np.mean(arr)\n",
        "\n",
        "print('precision@1 =', np.mean(y_test == y_pred))\n",
        "print('precision@3 =', precision_at_k(y_test, y_pred_proba, 3))\n",
        "print('precision@5 =', precision_at_k(y_test, y_pred_proba, 5))"
      ],
      "execution_count": null,
      "outputs": [
        {
          "output_type": "stream",
          "name": "stdout",
          "text": [
            "precision@1 = 0.615187561697927\n",
            "precision@3 = 0.7615399802566634\n",
            "precision@5 = 0.8105972359328727\n"
          ]
        }
      ]
    },
    {
      "cell_type": "code",
      "source": [
        ""
      ],
      "metadata": {
        "id": "NpiehbFRNein"
      },
      "execution_count": null,
      "outputs": []
    }
  ]
}